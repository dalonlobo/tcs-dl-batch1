{
 "cells": [
  {
   "cell_type": "code",
   "execution_count": 43,
   "metadata": {},
   "outputs": [],
   "source": [
    "import keras\n",
    "import keras.datasets\n",
    "from keras.datasets import fashion_mnist\n",
    "import matplotlib.pyplot as plt\n",
    "import numpy as np\n",
    "%matplotlib inline\n",
    "from keras.utils import to_categorical"
   ]
  },
  {
   "cell_type": "code",
   "execution_count": 23,
   "metadata": {},
   "outputs": [],
   "source": [
    "from keras.models import Sequential,Input,Model\n",
    "from keras.layers import Dense, Dropout, Flatten\n",
    "from keras.layers import Conv2D, MaxPooling2D\n",
    "from keras.layers.normalization import BatchNormalization\n",
    "from keras.layers.advanced_activations import LeakyReLU\n",
    "from sklearn.model_selection import train_test_split"
   ]
  },
  {
   "cell_type": "code",
   "execution_count": 24,
   "metadata": {},
   "outputs": [],
   "source": [
    "(x_train, y_train), (x_test, y_test) = fashion_mnist.load_data()"
   ]
  },
  {
   "cell_type": "code",
   "execution_count": 25,
   "metadata": {},
   "outputs": [
    {
     "name": "stdout",
     "output_type": "stream",
     "text": [
      "(60000, 28, 28) (10000, 28, 28)\n",
      "(60000, 28, 28, 1) (10000, 28, 28, 1) (60000, 10) (10000, 10)\n"
     ]
    }
   ],
   "source": [
    "print(x_train.shape, x_test.shape)\n",
    "x_train = x_train/255\n",
    "x_test = x_test/255\n",
    "x_train = x_train.reshape( -1, 28,28,1)\n",
    "x_test = x_test.reshape( -1, 28,28,1)\n",
    "y_train_hot = to_categorical(y_train)\n",
    "y_test_hot = to_categorical(y_test)\n",
    "print(x_train.shape, x_test.shape, y_train_hot.shape, y_test_hot.shape)\n"
   ]
  },
  {
   "cell_type": "code",
   "execution_count": 29,
   "metadata": {},
   "outputs": [],
   "source": [
    "batch_size = 1024\n",
    "epochs =20\n",
    "num_classes = 10"
   ]
  },
  {
   "cell_type": "code",
   "execution_count": 30,
   "metadata": {},
   "outputs": [],
   "source": [
    "def BuildModel1(input_shape=(28,28,1), convSize=(3,3), PoolSize=(2,2)):\n",
    "    modelFM = Sequential()\n",
    "    modelFM.add(Conv2D(32, kernel_size=convSize,\n",
    "                       activation='linear',\n",
    "                       input_shape=input_shape,padding=\"same\"))\n",
    "    modelFM.add(LeakyReLU(alpha=0.1))\n",
    "    modelFM.add(MaxPooling2D((2, 2),padding='same'))\n",
    "    modelFM.add(Conv2D(64, convSize, \n",
    "                       activation='linear',\n",
    "                       padding='same'))\n",
    "    modelFM.add(LeakyReLU(alpha=0.1))\n",
    "    modelFM.add(MaxPooling2D(pool_size=PoolSize,padding='same'))\n",
    "    modelFM.add(Conv2D(128, convSize, \n",
    "                       activation='linear',\n",
    "                       padding='same'))\n",
    "    modelFM.add(LeakyReLU(alpha=0.1))\n",
    "    modelFM.add(MaxPooling2D(pool_size=PoolSize,padding='same'))\n",
    "    modelFM.add(Flatten())\n",
    "    modelFM.add(Dense(128, activation='linear'))\n",
    "    modelFM.add(LeakyReLU(alpha=0.1))\n",
    "    modelFM.add(Dense(num_classes, activation='softmax'))\n",
    "    return modelFM"
   ]
  },
  {
   "cell_type": "code",
   "execution_count": 31,
   "metadata": {},
   "outputs": [],
   "source": [
    "modelFM = BuildModel1()\n",
    "modelFM.compile(loss=keras.losses.categorical_crossentropy, optimizer=keras.optimizers.Adam(),metrics=['accuracy'])"
   ]
  },
  {
   "cell_type": "code",
   "execution_count": 32,
   "metadata": {},
   "outputs": [
    {
     "name": "stdout",
     "output_type": "stream",
     "text": [
      "_________________________________________________________________\n",
      "Layer (type)                 Output Shape              Param #   \n",
      "=================================================================\n",
      "conv2d_10 (Conv2D)           (None, 28, 28, 32)        320       \n",
      "_________________________________________________________________\n",
      "leaky_re_lu_13 (LeakyReLU)   (None, 28, 28, 32)        0         \n",
      "_________________________________________________________________\n",
      "max_pooling2d_10 (MaxPooling (None, 14, 14, 32)        0         \n",
      "_________________________________________________________________\n",
      "conv2d_11 (Conv2D)           (None, 14, 14, 64)        18496     \n",
      "_________________________________________________________________\n",
      "leaky_re_lu_14 (LeakyReLU)   (None, 14, 14, 64)        0         \n",
      "_________________________________________________________________\n",
      "max_pooling2d_11 (MaxPooling (None, 7, 7, 64)          0         \n",
      "_________________________________________________________________\n",
      "conv2d_12 (Conv2D)           (None, 7, 7, 128)         73856     \n",
      "_________________________________________________________________\n",
      "leaky_re_lu_15 (LeakyReLU)   (None, 7, 7, 128)         0         \n",
      "_________________________________________________________________\n",
      "max_pooling2d_12 (MaxPooling (None, 4, 4, 128)         0         \n",
      "_________________________________________________________________\n",
      "flatten_4 (Flatten)          (None, 2048)              0         \n",
      "_________________________________________________________________\n",
      "dense_7 (Dense)              (None, 128)               262272    \n",
      "_________________________________________________________________\n",
      "leaky_re_lu_16 (LeakyReLU)   (None, 128)               0         \n",
      "_________________________________________________________________\n",
      "dense_8 (Dense)              (None, 10)                1290      \n",
      "=================================================================\n",
      "Total params: 356,234\n",
      "Trainable params: 356,234\n",
      "Non-trainable params: 0\n",
      "_________________________________________________________________\n"
     ]
    }
   ],
   "source": [
    "modelFM.summary()"
   ]
  },
  {
   "cell_type": "code",
   "execution_count": 33,
   "metadata": {},
   "outputs": [
    {
     "name": "stdout",
     "output_type": "stream",
     "text": [
      "Train on 48000 samples, validate on 12000 samples\n",
      "Epoch 1/20\n",
      "48000/48000 [==============================] - 127s 3ms/step - loss: 0.9853 - acc: 0.6635 - val_loss: 0.6212 - val_acc: 0.7660\n",
      "Epoch 2/20\n",
      "48000/48000 [==============================] - 109s 2ms/step - loss: 0.5143 - acc: 0.8130 - val_loss: 0.4881 - val_acc: 0.8175\n",
      "Epoch 3/20\n",
      "48000/48000 [==============================] - 108s 2ms/step - loss: 0.4152 - acc: 0.8536 - val_loss: 0.4236 - val_acc: 0.8483\n",
      "Epoch 4/20\n",
      "48000/48000 [==============================] - 105s 2ms/step - loss: 0.3700 - acc: 0.8665 - val_loss: 0.3647 - val_acc: 0.8690\n",
      "Epoch 5/20\n",
      "48000/48000 [==============================] - 105s 2ms/step - loss: 0.3407 - acc: 0.8793 - val_loss: 0.3398 - val_acc: 0.8758\n",
      "Epoch 6/20\n",
      "48000/48000 [==============================] - 108s 2ms/step - loss: 0.3213 - acc: 0.8857 - val_loss: 0.3223 - val_acc: 0.8865\n",
      "Epoch 7/20\n",
      "48000/48000 [==============================] - 110s 2ms/step - loss: 0.3034 - acc: 0.8909 - val_loss: 0.3357 - val_acc: 0.8803\n",
      "Epoch 8/20\n",
      "48000/48000 [==============================] - 104s 2ms/step - loss: 0.2887 - acc: 0.8966 - val_loss: 0.3043 - val_acc: 0.8913\n",
      "Epoch 9/20\n",
      "48000/48000 [==============================] - 104s 2ms/step - loss: 0.2711 - acc: 0.9035 - val_loss: 0.3177 - val_acc: 0.8855\n",
      "Epoch 10/20\n",
      "48000/48000 [==============================] - 104s 2ms/step - loss: 0.2703 - acc: 0.9014 - val_loss: 0.2841 - val_acc: 0.8982\n",
      "Epoch 11/20\n",
      "48000/48000 [==============================] - 104s 2ms/step - loss: 0.2636 - acc: 0.9052 - val_loss: 0.2856 - val_acc: 0.8992\n",
      "Epoch 12/20\n",
      "48000/48000 [==============================] - 104s 2ms/step - loss: 0.2476 - acc: 0.9107 - val_loss: 0.2740 - val_acc: 0.9008\n",
      "Epoch 13/20\n",
      "48000/48000 [==============================] - 115s 2ms/step - loss: 0.2343 - acc: 0.9163 - val_loss: 0.2742 - val_acc: 0.9029\n",
      "Epoch 14/20\n",
      "48000/48000 [==============================] - 114s 2ms/step - loss: 0.2278 - acc: 0.9180 - val_loss: 0.2798 - val_acc: 0.8988\n",
      "Epoch 15/20\n",
      "48000/48000 [==============================] - 113s 2ms/step - loss: 0.2205 - acc: 0.9214 - val_loss: 0.2520 - val_acc: 0.9089\n",
      "Epoch 16/20\n",
      "48000/48000 [==============================] - 110s 2ms/step - loss: 0.2233 - acc: 0.9192 - val_loss: 0.2552 - val_acc: 0.9081\n",
      "Epoch 17/20\n",
      "48000/48000 [==============================] - 110s 2ms/step - loss: 0.2117 - acc: 0.9229 - val_loss: 0.2492 - val_acc: 0.9095\n",
      "Epoch 18/20\n",
      "48000/48000 [==============================] - 115s 2ms/step - loss: 0.2009 - acc: 0.9275 - val_loss: 0.2541 - val_acc: 0.9085\n",
      "Epoch 19/20\n",
      "48000/48000 [==============================] - 115s 2ms/step - loss: 0.1931 - acc: 0.9303 - val_loss: 0.2556 - val_acc: 0.9093\n",
      "Epoch 20/20\n",
      "48000/48000 [==============================] - 115s 2ms/step - loss: 0.1913 - acc: 0.9302 - val_loss: 0.2569 - val_acc: 0.9093\n"
     ]
    }
   ],
   "source": [
    "model_train = modelFM.fit(tr_x, tr_y, batch_size=batch_size,epochs=epochs,verbose=1,validation_data=(cv_x,cv_y))"
   ]
  },
  {
   "cell_type": "code",
   "execution_count": 46,
   "metadata": {},
   "outputs": [
    {
     "name": "stdout",
     "output_type": "stream",
     "text": [
      "10000/10000 [==============================] - 14s 1ms/step\n",
      "Test loss: 0.2701905567407608\n",
      "Test accuracy: 0.9095\n"
     ]
    }
   ],
   "source": [
    "test_eval = modelFM.evaluate(x_test, y_test_hot, verbose=1)\n",
    "print('Test loss:', test_eval[0])\n",
    "print('Test accuracy:', test_eval[1])"
   ]
  },
  {
   "cell_type": "code",
   "execution_count": 34,
   "metadata": {},
   "outputs": [],
   "source": [
    "def BuildModelWithDO(input_shape=(28,28,1), convSize=(3,3), PoolSize=(2,2)):\n",
    "    modelFM = Sequential()\n",
    "    modelFM.add(Conv2D(32, kernel_size=convSize,\n",
    "                       activation='linear',\n",
    "                       input_shape=input_shape,padding=\"same\"))\n",
    "    modelFM.add(LeakyReLU(alpha=0.1))\n",
    "    modelFM.add(MaxPooling2D((2, 2),padding='same'))\n",
    "    modelFM.add(Dropout(0.1))    \n",
    "    modelFM.add(Conv2D(64, convSize, \n",
    "                       activation='linear',\n",
    "                       padding='same'))\n",
    "    modelFM.add(LeakyReLU(alpha=0.1))\n",
    "    modelFM.add(MaxPooling2D(pool_size=PoolSize,padding='same'))\n",
    "    modelFM.add(Dropout(0.2))\n",
    "    modelFM.add(Conv2D(128, convSize, \n",
    "                       activation='linear',\n",
    "                       padding='same'))\n",
    "    modelFM.add(LeakyReLU(alpha=0.1))\n",
    "    modelFM.add(MaxPooling2D(pool_size=PoolSize,padding='same'))\n",
    "    modelFM.add(Dropout(0.3))\n",
    "    modelFM.add(Flatten())\n",
    "    modelFM.add(Dense(128, activation='linear'))\n",
    "    modelFM.add(LeakyReLU(alpha=0.1))\n",
    "    modelFM.add(Dropout(0.3))\n",
    "    modelFM.add(Dense(num_classes, activation='softmax'))\n",
    "    return modelFM\n",
    "modelFMDO = BuildModelWithDO()"
   ]
  },
  {
   "cell_type": "code",
   "execution_count": 35,
   "metadata": {},
   "outputs": [],
   "source": [
    "modelFMDO.compile(loss=keras.losses.categorical_crossentropy, optimizer=keras.optimizers.Adam(),metrics=['accuracy'])"
   ]
  },
  {
   "cell_type": "code",
   "execution_count": 36,
   "metadata": {},
   "outputs": [
    {
     "name": "stdout",
     "output_type": "stream",
     "text": [
      "_________________________________________________________________\n",
      "Layer (type)                 Output Shape              Param #   \n",
      "=================================================================\n",
      "conv2d_13 (Conv2D)           (None, 28, 28, 32)        320       \n",
      "_________________________________________________________________\n",
      "leaky_re_lu_17 (LeakyReLU)   (None, 28, 28, 32)        0         \n",
      "_________________________________________________________________\n",
      "max_pooling2d_13 (MaxPooling (None, 14, 14, 32)        0         \n",
      "_________________________________________________________________\n",
      "dropout_9 (Dropout)          (None, 14, 14, 32)        0         \n",
      "_________________________________________________________________\n",
      "conv2d_14 (Conv2D)           (None, 14, 14, 64)        18496     \n",
      "_________________________________________________________________\n",
      "leaky_re_lu_18 (LeakyReLU)   (None, 14, 14, 64)        0         \n",
      "_________________________________________________________________\n",
      "max_pooling2d_14 (MaxPooling (None, 7, 7, 64)          0         \n",
      "_________________________________________________________________\n",
      "dropout_10 (Dropout)         (None, 7, 7, 64)          0         \n",
      "_________________________________________________________________\n",
      "conv2d_15 (Conv2D)           (None, 7, 7, 128)         73856     \n",
      "_________________________________________________________________\n",
      "leaky_re_lu_19 (LeakyReLU)   (None, 7, 7, 128)         0         \n",
      "_________________________________________________________________\n",
      "max_pooling2d_15 (MaxPooling (None, 4, 4, 128)         0         \n",
      "_________________________________________________________________\n",
      "dropout_11 (Dropout)         (None, 4, 4, 128)         0         \n",
      "_________________________________________________________________\n",
      "flatten_5 (Flatten)          (None, 2048)              0         \n",
      "_________________________________________________________________\n",
      "dense_9 (Dense)              (None, 128)               262272    \n",
      "_________________________________________________________________\n",
      "leaky_re_lu_20 (LeakyReLU)   (None, 128)               0         \n",
      "_________________________________________________________________\n",
      "dropout_12 (Dropout)         (None, 128)               0         \n",
      "_________________________________________________________________\n",
      "dense_10 (Dense)             (None, 10)                1290      \n",
      "=================================================================\n",
      "Total params: 356,234\n",
      "Trainable params: 356,234\n",
      "Non-trainable params: 0\n",
      "_________________________________________________________________\n",
      "Train on 48000 samples, validate on 12000 samples\n",
      "Epoch 1/20\n",
      "48000/48000 [==============================] - 119s 2ms/step - loss: 1.0774 - acc: 0.6011 - val_loss: 0.5807 - val_acc: 0.7750\n",
      "Epoch 2/20\n",
      "48000/48000 [==============================] - 120s 2ms/step - loss: 0.5768 - acc: 0.7823 - val_loss: 0.4828 - val_acc: 0.8282\n",
      "Epoch 3/20\n",
      "48000/48000 [==============================] - 121s 3ms/step - loss: 0.4799 - acc: 0.8241 - val_loss: 0.4074 - val_acc: 0.8547\n",
      "Epoch 4/20\n",
      "48000/48000 [==============================] - 121s 3ms/step - loss: 0.4241 - acc: 0.8463 - val_loss: 0.3650 - val_acc: 0.8665\n",
      "Epoch 5/20\n",
      "48000/48000 [==============================] - 126s 3ms/step - loss: 0.3860 - acc: 0.8606 - val_loss: 0.3359 - val_acc: 0.8780\n",
      "Epoch 6/20\n",
      "48000/48000 [==============================] - 121s 3ms/step - loss: 0.3650 - acc: 0.8672 - val_loss: 0.3251 - val_acc: 0.8817\n",
      "Epoch 7/20\n",
      "48000/48000 [==============================] - 119s 2ms/step - loss: 0.3416 - acc: 0.8758 - val_loss: 0.3090 - val_acc: 0.8893\n",
      "Epoch 8/20\n",
      "48000/48000 [==============================] - 121s 3ms/step - loss: 0.3318 - acc: 0.8790 - val_loss: 0.3013 - val_acc: 0.8901\n",
      "Epoch 9/20\n",
      "48000/48000 [==============================] - 123s 3ms/step - loss: 0.3141 - acc: 0.8846 - val_loss: 0.2853 - val_acc: 0.8963\n",
      "Epoch 10/20\n",
      "48000/48000 [==============================] - 123s 3ms/step - loss: 0.3050 - acc: 0.8877 - val_loss: 0.2815 - val_acc: 0.8962\n",
      "Epoch 11/20\n",
      "48000/48000 [==============================] - 115s 2ms/step - loss: 0.2929 - acc: 0.8933 - val_loss: 0.2721 - val_acc: 0.8996\n",
      "Epoch 12/20\n",
      "48000/48000 [==============================] - 115s 2ms/step - loss: 0.2823 - acc: 0.8963 - val_loss: 0.2611 - val_acc: 0.9055\n",
      "Epoch 13/20\n",
      "48000/48000 [==============================] - 114s 2ms/step - loss: 0.2758 - acc: 0.8993 - val_loss: 0.2613 - val_acc: 0.9044\n",
      "Epoch 14/20\n",
      "48000/48000 [==============================] - 115s 2ms/step - loss: 0.2693 - acc: 0.9002 - val_loss: 0.2520 - val_acc: 0.9083\n",
      "Epoch 15/20\n",
      "48000/48000 [==============================] - 117s 2ms/step - loss: 0.2652 - acc: 0.9034 - val_loss: 0.2544 - val_acc: 0.9063\n",
      "Epoch 16/20\n",
      "48000/48000 [==============================] - 120s 3ms/step - loss: 0.2584 - acc: 0.9053 - val_loss: 0.2447 - val_acc: 0.9102\n",
      "Epoch 17/20\n",
      "48000/48000 [==============================] - 129s 3ms/step - loss: 0.2491 - acc: 0.9084 - val_loss: 0.2454 - val_acc: 0.9102\n",
      "Epoch 18/20\n",
      "48000/48000 [==============================] - 120s 2ms/step - loss: 0.2443 - acc: 0.9098 - val_loss: 0.2340 - val_acc: 0.9136\n",
      "Epoch 19/20\n",
      "48000/48000 [==============================] - 118s 2ms/step - loss: 0.2401 - acc: 0.9122 - val_loss: 0.2338 - val_acc: 0.9157\n",
      "Epoch 20/20\n",
      "48000/48000 [==============================] - 121s 3ms/step - loss: 0.2325 - acc: 0.9146 - val_loss: 0.2350 - val_acc: 0.9149\n"
     ]
    }
   ],
   "source": [
    "modelFMDO.summary()\n",
    "model_trainDO = modelFMDO.fit(tr_x, tr_y, batch_size=batch_size,epochs=epochs,verbose=1,validation_data=(cv_x,cv_y))"
   ]
  },
  {
   "cell_type": "code",
   "execution_count": 37,
   "metadata": {},
   "outputs": [
    {
     "data": {
      "image/png": "[encoded data removed]",
      "text/plain": [
       "<Figure size 432x288 with 1 Axes>"
      ]
     },
     "metadata": {},
     "output_type": "display_data"
    },
    {
     "data": {
      "image/png": "[encoded data removed]",
      "text/plain": [
       "<Figure size 432x288 with 1 Axes>"
      ]
     },
     "metadata": {},
     "output_type": "display_data"
    }
   ],
   "source": [
    "accuracy = model_trainDO.history['acc']\n",
    "val_accuracy = model_trainDO.history['val_acc']\n",
    "loss = model_trainDO.history['loss']\n",
    "val_loss = model_trainDO.history['val_loss']\n",
    "epochs = range(len(accuracy))\n",
    "plt.plot(epochs, accuracy, 'bo', label='Training accuracy')\n",
    "plt.plot(epochs, val_accuracy, 'b', label='Validation accuracy')\n",
    "plt.title('Training and validation accuracy')\n",
    "plt.legend()\n",
    "plt.figure()\n",
    "plt.plot(epochs, loss, 'bo', label='Training loss')\n",
    "plt.plot(epochs, val_loss, 'b', label='Validation loss')\n",
    "plt.title('Training and validation loss')\n",
    "plt.legend()\n",
    "plt.show()"
   ]
  },
  {
   "cell_type": "code",
   "execution_count": 38,
   "metadata": {},
   "outputs": [],
   "source": [
    "predicted_classes = modelFMDO.predict(x_test)"
   ]
  },
  {
   "cell_type": "code",
   "execution_count": 39,
   "metadata": {},
   "outputs": [],
   "source": [
    "predicted_classes = np.argmax(np.round(predicted_classes),axis=1)"
   ]
  },
  {
   "cell_type": "code",
   "execution_count": 47,
   "metadata": {},
   "outputs": [
    {
     "name": "stdout",
     "output_type": "stream",
     "text": [
      "10000/10000 [==============================] - 14s 1ms/step\n",
      "Test loss: 0.24486115812659265\n",
      "Test accuracy: 0.911\n"
     ]
    }
   ],
   "source": [
    "test_eval = modelFMDO.evaluate(x_test, y_test_hot, verbose=1)\n",
    "print('Test loss:', test_eval[0])\n",
    "print('Test accuracy:', test_eval[1])"
   ]
  },
  {
   "cell_type": "code",
   "execution_count": null,
   "metadata": {},
   "outputs": [],
   "source": []
  }
 ],
 "metadata": {
  "kernelspec": {
   "display_name": "Python 3",
   "language": "python",
   "name": "python3"
  },
  "language_info": {
   "codemirror_mode": {
    "name": "ipython",
    "version": 3
   },
   "file_extension": ".py",
   "mimetype": "text/x-python",
   "name": "python",
   "nbconvert_exporter": "python",
   "pygments_lexer": "ipython3",
   "version": "3.6.2"
  }
 },
 "nbformat": 4,
 "nbformat_minor": 2
}
