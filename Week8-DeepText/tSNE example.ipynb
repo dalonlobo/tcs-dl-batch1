{
 "cells": [
  {
   "cell_type": "code",
   "execution_count": null,
   "metadata": {},
   "outputs": [],
   "source": [
    "# This demonstrates how to convert 50 dimension glove vector to 2 dimension using TSNE approach"
   ]
  },
  {
   "cell_type": "code",
   "execution_count": 39,
   "metadata": {},
   "outputs": [],
   "source": [
    "## importing the required packages\n",
    "from time import time\n",
    "import numpy as np\n",
    "from sklearn.manifold import TSNE"
   ]
  },
  {
   "cell_type": "code",
   "execution_count": 40,
   "metadata": {},
   "outputs": [
    {
     "data": {
      "text/html": [
       "<script type=\"text/javascript\">window.PlotlyConfig = {MathJaxConfig: 'local'};</script><script type=\"text/javascript\">if (window.MathJax) {MathJax.Hub.Config({SVG: {font: \"STIX-Web\"}});}</script><script>requirejs.config({paths: { 'plotly': ['https://cdn.plot.ly/plotly-latest.min']},});if(!window._Plotly) {require(['plotly'],function(plotly) {window._Plotly=plotly;});}</script>"
      ],
      "text/vnd.plotly.v1+html": [
       "<script type=\"text/javascript\">window.PlotlyConfig = {MathJaxConfig: 'local'};</script><script type=\"text/javascript\">if (window.MathJax) {MathJax.Hub.Config({SVG: {font: \"STIX-Web\"}});}</script><script>requirejs.config({paths: { 'plotly': ['https://cdn.plot.ly/plotly-latest.min']},});if(!window._Plotly) {require(['plotly'],function(plotly) {window._Plotly=plotly;});}</script>"
      ]
     },
     "metadata": {},
     "output_type": "display_data"
    }
   ],
   "source": [
    "import plotly.offline as py\n",
    "import plotly.graph_objs as go\n",
    "py.init_notebook_mode(connected=True)"
   ]
  },
  {
   "cell_type": "code",
   "execution_count": 72,
   "metadata": {},
   "outputs": [],
   "source": [
    "def read_glove_data(glove_file):\n",
    "    with open(glove_file, 'r', encoding=\"utf-8\") as f:\n",
    "        words = set()\n",
    "        word_to_vec_map = {}\n",
    "        curr_word=None\n",
    "        WordToInd = {}\n",
    "        IndToWord = {}\n",
    "        i = -1\n",
    "        try:\n",
    "            for line in f:\n",
    "                i+=1\n",
    "                try:\n",
    "                    line = line.strip().split()\n",
    "                    curr_word = line[0]                   \n",
    "                   \n",
    "                    word_to_vec_map[curr_word] = np.array(line[1:], dtype=np.float64)\n",
    "                    WordToInd[curr_word] = i\n",
    "                    IndToWord[i] = curr_word\n",
    "                except Exception as E:\n",
    "                    print (\"got An exception, word=\", curr_word, i)\n",
    "                    pass         \n",
    "        except Exception as E:\n",
    "            print (\"got An exception before for, word=\", curr_word, i)\n",
    "            pass         \n",
    "            \n",
    "    return word_to_vec_map, WordToInd, IndToWord"
   ]
  },
  {
   "cell_type": "code",
   "execution_count": 73,
   "metadata": {},
   "outputs": [],
   "source": [
    "word_to_vec_map, WordToInd, IndToWord = read_glove_data('glove.6B.50d.txt')"
   ]
  },
  {
   "cell_type": "code",
   "execution_count": 74,
   "metadata": {},
   "outputs": [
    {
     "data": {
      "text/plain": [
       "224761"
      ]
     },
     "execution_count": 74,
     "metadata": {},
     "output_type": "execute_result"
    }
   ],
   "source": [
    "len(word_to_vec_map)"
   ]
  },
  {
   "cell_type": "code",
   "execution_count": 56,
   "metadata": {},
   "outputs": [],
   "source": [
    "## Plotting function\n",
    "def plot2d_words(data, start, stop, step, word_list):\n",
    "    trace = go.Scatter(\n",
    "        x = data[start:stop:step,0], \n",
    "        y = data[start:stop:step, 1],      \n",
    "        mode = 'markers+text',\n",
    "        text= word_list[start:stop:step]\n",
    "    )   \n",
    "    layout = dict(title= 't-SNE Feature 1 and t-SNE Feature 2',\n",
    "                  yaxis = dict(title='t-SNE 2'),\n",
    "                  xaxis = dict(title='t-SNE 1'),\n",
    "                  hovermode= 'closest')\n",
    "    fig = dict(data = [trace], layout= layout)\n",
    "    py.iplot(fig)"
   ]
  },
  {
   "cell_type": "code",
   "execution_count": 68,
   "metadata": {},
   "outputs": [],
   "source": [
    "#Lets visualize  V words in the matrix\n",
    "def fillEmbedMatrix (word_to_vec_map, V = len(word_to_vec_map), nDim=50):\n",
    "    embed_matrix = np.zeros((V, nDim))\n",
    "\n",
    "    for i in range (V):\n",
    "        embed = word_to_vec_map[words[i]]\n",
    "        if embed is not None:\n",
    "            embed_matrix[i] = embed\n",
    "    return embed_matrix"
   ]
  },
  {
   "cell_type": "code",
   "execution_count": 69,
   "metadata": {},
   "outputs": [],
   "source": [
    "embed_matrix = fillEmbedMatrix (word_to_vec_map)"
   ]
  },
  {
   "cell_type": "code",
   "execution_count": 70,
   "metadata": {},
   "outputs": [],
   "source": [
    "#Lets view 20 vectors\n",
    "sample_words = [\"movie\", \"cinema\", \"delicious\", \"tasty\", \"sad\", \"miserable\", \n",
    "                \"monogamy\", \"bigamy\", \"city\", \"hotel\", \"restaurant\", \"motel\", \"inn\", \"village\",\n",
    "                \"france\", \"happy\", \"unhappy\", \"paris\", \"india\", \"delhi\"]\n",
    "newEmbed = np.zeros((len(sample_words), 50))\n",
    "for i,s in enumerate(sample_words):\n",
    "    emb = word_to_vec_map.get(s)\n",
    "    if (emb is not None):\n",
    "        newEmbed[i] = emb\n",
    "    else:\n",
    "        print (s, \"is not in the dictionary\")"
   ]
  },
  {
   "cell_type": "code",
   "execution_count": 71,
   "metadata": {},
   "outputs": [
    {
     "data": {
      "application/vnd.plotly.v1+json": {
       "config": {
        "linkText": "Export to plot.ly",
        "plotlyServerURL": "https://plot.ly",
        "showLink": false
       },
       "data": [
        {
         "mode": "markers+text",
         "text": [
          "movie",
          "cinema",
          "delicious",
          "tasty",
          "sad",
          "miserable",
          "monogamy",
          "bigamy",
          "city",
          "hotel",
          "restaurant",
          "motel",
          "inn",
          "village",
          "france",
          "happy",
          "unhappy",
          "paris",
          "india",
          "delhi"
         ],
         "type": "scatter",
         "uid": "7fa9c552-3c77-423d-8c2b-283c2a8ca7a6",
         "x": [
          73.04988861083984,
          44.240718841552734,
          -50.365718841552734,
          31.819177627563477,
          -18.886478424072266,
          9.440716743469238,
          46.07972717285156,
          13.30596923828125,
          68.30419921875,
          -12.92099380493164,
          -47.82731246948242,
          77.79229736328125,
          8.329026222229004,
          48.28815460205078,
          25.442052841186523,
          70.26020812988281,
          8.4984769821167,
          -33.597110748291016,
          47.50275421142578,
          2.748033046722412
         ],
         "y": [
          -72.54509735107422,
          -44.551082611083984,
          15.330642700195312,
          -64.91678619384766,
          -58.93264389038086,
          -68.24529266357422,
          -17.08415985107422,
          6.746767520904541,
          7.004483222961426,
          -10.217690467834473,
          -39.337711334228516,
          -47.16004943847656,
          -93.10205078125,
          -109.5335693359375,
          -25.762418746948242,
          -95.79585266113281,
          -11.602628707885742,
          -52.005130767822266,
          -86.97959899902344,
          -43.40711212158203
         ]
        }
       ],
       "layout": {
        "hovermode": "closest",
        "title": {
         "text": "t-SNE Feature 1 and t-SNE Feature 2"
        },
        "xaxis": {
         "title": {
          "text": "t-SNE 1"
         }
        },
        "yaxis": {
         "title": {
          "text": "t-SNE 2"
         }
        }
       }
      },
      "text/html": [
       "<div id=\"5d2c17cd-ad59-4f41-9e18-e5231f1bdda2\" style=\"height: 525px; width: 100%;\" class=\"plotly-graph-div\"></div><script type=\"text/javascript\">require([\"plotly\"], function(Plotly) { window.PLOTLYENV=window.PLOTLYENV || {};window.PLOTLYENV.BASE_URL=\"https://plot.ly\";Plotly.newPlot(\"5d2c17cd-ad59-4f41-9e18-e5231f1bdda2\", [{\"mode\": \"markers+text\", \"text\": [\"movie\", \"cinema\", \"delicious\", \"tasty\", \"sad\", \"miserable\", \"monogamy\", \"bigamy\", \"city\", \"hotel\", \"restaurant\", \"motel\", \"inn\", \"village\", \"france\", \"happy\", \"unhappy\", \"paris\", \"india\", \"delhi\"], \"x\": [73.04988861083984, 44.240718841552734, -50.365718841552734, 31.819177627563477, -18.886478424072266, 9.440716743469238, 46.07972717285156, 13.30596923828125, 68.30419921875, -12.92099380493164, -47.82731246948242, 77.79229736328125, 8.329026222229004, 48.28815460205078, 25.442052841186523, 70.26020812988281, 8.4984769821167, -33.597110748291016, 47.50275421142578, 2.748033046722412], \"y\": [-72.54509735107422, -44.551082611083984, 15.330642700195312, -64.91678619384766, -58.93264389038086, -68.24529266357422, -17.08415985107422, 6.746767520904541, 7.004483222961426, -10.217690467834473, -39.337711334228516, -47.16004943847656, -93.10205078125, -109.5335693359375, -25.762418746948242, -95.79585266113281, -11.602628707885742, -52.005130767822266, -86.97959899902344, -43.40711212158203], \"type\": \"scatter\", \"uid\": \"c60ebd9b-083c-41cd-b28d-0f88486298d5\"}], {\"hovermode\": \"closest\", \"title\": {\"text\": \"t-SNE Feature 1 and t-SNE Feature 2\"}, \"xaxis\": {\"title\": {\"text\": \"t-SNE 1\"}}, \"yaxis\": {\"title\": {\"text\": \"t-SNE 2\"}}}, {\"showLink\": false, \"linkText\": \"Export to plot.ly\", \"plotlyServerURL\": \"https://plot.ly\"})});</script><script type=\"text/javascript\">window.addEventListener(\"resize\", function(){window._Plotly.Plots.resize(document.getElementById(\"5d2c17cd-ad59-4f41-9e18-e5231f1bdda2\"));});</script>"
      ],
      "text/vnd.plotly.v1+html": [
       "<div id=\"5d2c17cd-ad59-4f41-9e18-e5231f1bdda2\" style=\"height: 525px; width: 100%;\" class=\"plotly-graph-div\"></div><script type=\"text/javascript\">require([\"plotly\"], function(Plotly) { window.PLOTLYENV=window.PLOTLYENV || {};window.PLOTLYENV.BASE_URL=\"https://plot.ly\";Plotly.newPlot(\"5d2c17cd-ad59-4f41-9e18-e5231f1bdda2\", [{\"mode\": \"markers+text\", \"text\": [\"movie\", \"cinema\", \"delicious\", \"tasty\", \"sad\", \"miserable\", \"monogamy\", \"bigamy\", \"city\", \"hotel\", \"restaurant\", \"motel\", \"inn\", \"village\", \"france\", \"happy\", \"unhappy\", \"paris\", \"india\", \"delhi\"], \"x\": [73.04988861083984, 44.240718841552734, -50.365718841552734, 31.819177627563477, -18.886478424072266, 9.440716743469238, 46.07972717285156, 13.30596923828125, 68.30419921875, -12.92099380493164, -47.82731246948242, 77.79229736328125, 8.329026222229004, 48.28815460205078, 25.442052841186523, 70.26020812988281, 8.4984769821167, -33.597110748291016, 47.50275421142578, 2.748033046722412], \"y\": [-72.54509735107422, -44.551082611083984, 15.330642700195312, -64.91678619384766, -58.93264389038086, -68.24529266357422, -17.08415985107422, 6.746767520904541, 7.004483222961426, -10.217690467834473, -39.337711334228516, -47.16004943847656, -93.10205078125, -109.5335693359375, -25.762418746948242, -95.79585266113281, -11.602628707885742, -52.005130767822266, -86.97959899902344, -43.40711212158203], \"type\": \"scatter\", \"uid\": \"c60ebd9b-083c-41cd-b28d-0f88486298d5\"}], {\"hovermode\": \"closest\", \"title\": {\"text\": \"t-SNE Feature 1 and t-SNE Feature 2\"}, \"xaxis\": {\"title\": {\"text\": \"t-SNE 1\"}}, \"yaxis\": {\"title\": {\"text\": \"t-SNE 2\"}}}, {\"showLink\": false, \"linkText\": \"Export to plot.ly\", \"plotlyServerURL\": \"https://plot.ly\"})});</script><script type=\"text/javascript\">window.addEventListener(\"resize\", function(){window._Plotly.Plots.resize(document.getElementById(\"5d2c17cd-ad59-4f41-9e18-e5231f1bdda2\"));});</script>"
      ]
     },
     "metadata": {},
     "output_type": "display_data"
    }
   ],
   "source": [
    "glove_tsne = TSNE(n_components=2).fit_transform(newEmbed)\n",
    "plot2d_words(glove_tsne, 0, len(sample_words), 1, sample_words)"
   ]
  },
  {
   "cell_type": "code",
   "execution_count": null,
   "metadata": {},
   "outputs": [],
   "source": []
  }
 ],
 "metadata": {
  "kernelspec": {
   "display_name": "Python 3",
   "language": "python",
   "name": "python3"
  },
  "language_info": {
   "codemirror_mode": {
    "name": "ipython",
    "version": 3
   },
   "file_extension": ".py",
   "mimetype": "text/x-python",
   "name": "python",
   "nbconvert_exporter": "python",
   "pygments_lexer": "ipython3",
   "version": "3.6.2"
  }
 },
 "nbformat": 4,
 "nbformat_minor": 2
}
