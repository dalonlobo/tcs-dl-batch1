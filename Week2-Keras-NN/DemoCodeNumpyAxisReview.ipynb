{
 "cells": [
  {
   "cell_type": "code",
   "execution_count": 1,
   "metadata": {},
   "outputs": [
    {
     "name": "stdout",
     "output_type": "stream",
     "text": [
      "<module 'numpy' from 'c:\\\\python36\\\\lib\\\\site-packages\\\\numpy\\\\__init__.py'>\n"
     ]
    }
   ],
   "source": [
    "import numpy as np\n",
    "print(np)"
   ]
  },
  {
   "cell_type": "code",
   "execution_count": 2,
   "metadata": {},
   "outputs": [],
   "source": [
    "a2d = np.array(\n",
    "    [\n",
    "        [1,2,3,4], [6,7,8,9], [10,11,12,13]\n",
    "    ]\n",
    ")\n",
    "a = a2d"
   ]
  },
  {
   "cell_type": "code",
   "execution_count": 6,
   "metadata": {},
   "outputs": [
    {
     "name": "stdout",
     "output_type": "stream",
     "text": [
      "Axis0shape= (4,) Axis0Sum=\n",
      " [17 20 23 26]\n",
      "Axis1.shape= (3,) Axis1Sum=\n",
      " [10 30 46]\n"
     ]
    }
   ],
   "source": [
    "##Sum\n",
    "axis0Sum = np.sum(a, axis=0) # wil be [1+6+10, 2+7+11, 3+8+12, 4+9+13]\n",
    "axis1Sum = np.sum(a, axis=1) #will be [1+2+3+4, 6+7+8+9, 10+11+12+13]\n",
    "print (\"Axis0shape=\", axis0Sum.shape, \"Axis0Sum=\\n\", axis0Sum)\n",
    "print (\"Axis1.shape=\", axis1Sum.shape, \"Axis1Sum=\\n\", axis1Sum)"
   ]
  },
  {
   "cell_type": "code",
   "execution_count": 7,
   "metadata": {},
   "outputs": [
    {
     "name": "stdout",
     "output_type": "stream",
     "text": [
      "Axis0Mean=\n",
      " [5.66666667 6.66666667 7.66666667 8.66666667]\n",
      "axis1Mean=\n",
      " [ 2.5  7.5 11.5]\n"
     ]
    }
   ],
   "source": [
    "## mean\n",
    "axis0Mean = np.mean(a, axis=0) #shape = (4,1) = [(1+6+10)/3, (2+7+11)/3,....(4+9+13)/3]\n",
    "axis1Mean = np.mean(a, axis=1) #shape=(3,1) = [(1+2+3+4)/4, (6+7+8+9)/4, (10+11+12+13/4\\\n",
    "print (\"Axis0Mean=\\n\", axis0Mean)\n",
    "print (\"axis1Mean=\\n\", axis1Mean)"
   ]
  },
  {
   "cell_type": "code",
   "execution_count": 8,
   "metadata": {},
   "outputs": [],
   "source": [
    "a3d =np.array(\n",
    "    [\n",
    "        [\n",
    "            [1,2,3,4,5], [6,7,8,9,10], [11,12,13,14,15]\n",
    "        ],\n",
    "        [\n",
    "            [51,52, 53, 54, 55], [56, 57, 58, 59, 60], [61,62,63,64,65]\n",
    "        ]\n",
    "\n",
    "    ]\n",
    ")\n",
    "a = a3d"
   ]
  },
  {
   "cell_type": "code",
   "execution_count": 9,
   "metadata": {},
   "outputs": [
    {
     "name": "stdout",
     "output_type": "stream",
     "text": [
      "(2, 3, 5)\n",
      "shape =  (3, 5) Axis0Sum=\n",
      " [[52 54 56 58 60]\n",
      " [62 64 66 68 70]\n",
      " [72 74 76 78 80]]\n",
      "shape =  (2, 5) Axis1Sum=\n",
      " [[ 18  21  24  27  30]\n",
      " [168 171 174 177 180]]\n",
      "shape =  (2, 3) Axis2Sum=\n",
      " [[ 15  40  65]\n",
      " [265 290 315]]\n"
     ]
    }
   ],
   "source": [
    "print (a.shape) #(2,3,5)\n",
    "axis0Sum = np.sum(a, axis=0) # shape =(3,5) = [ [51+1, 52+2, 53+3, 54+4, 55+5], [56+6,...60+10], [61+11, ..65+15]]\n",
    "axis1Sum = np.sum(a, axis=1) # shape = (2,5) = [[1+6+11, 2+7+12, 3+8+13,4+9+14, 5+10+15], [51+56+61 , 52+57+62, 53+58+63 ,54+59+64,  55+60+65] ]\n",
    "axis2Sum = np.sum(a, axis=2) # shape(2,3) = [[1+2+3+4+5],[6+7+8+9+10],[11+12+13+14+15]], [51+52+53+..55],[56+57+..+60],[61+62+..65]]\n",
    "print (\"shape = \", axis0Sum.shape, \"Axis0Sum=\\n\", axis0Sum)\n",
    "print (\"shape = \", axis1Sum.shape, \"Axis1Sum=\\n\", axis1Sum)\n",
    "print (\"shape = \", axis2Sum.shape, \"Axis2Sum=\\n\", axis2Sum)"
   ]
  },
  {
   "cell_type": "code",
   "execution_count": 10,
   "metadata": {},
   "outputs": [
    {
     "name": "stdout",
     "output_type": "stream",
     "text": [
      "axis0Mean=\n",
      " [[26. 27. 28. 29. 30.]\n",
      " [31. 32. 33. 34. 35.]\n",
      " [36. 37. 38. 39. 40.]]\n",
      "axis1Mean=\n",
      " [[ 6.  7.  8.  9. 10.]\n",
      " [56. 57. 58. 59. 60.]]\n",
      "axis2Mean=\n",
      " [[ 3.  8. 13.]\n",
      " [53. 58. 63.]]\n"
     ]
    }
   ],
   "source": [
    "axis0Mean = np.mean(a, axis=0) # shape =(3,5)\n",
    "axis1Mean = np.mean(a, axis=1) # shape = (2,5)\n",
    "axis2Mean = np.mean(a, axis=2) # shape(2,3)\n",
    "print (\"axis0Mean=\\n\", axis0Mean)\n",
    "print (\"axis1Mean=\\n\", axis1Mean)\n",
    "print (\"axis2Mean=\\n\", axis2Mean)"
   ]
  },
  {
   "cell_type": "code",
   "execution_count": null,
   "metadata": {},
   "outputs": [],
   "source": []
  }
 ],
 "metadata": {
  "kernelspec": {
   "display_name": "Python 3",
   "language": "python",
   "name": "python3"
  },
  "language_info": {
   "codemirror_mode": {
    "name": "ipython",
    "version": 3
   },
   "file_extension": ".py",
   "mimetype": "text/x-python",
   "name": "python",
   "nbconvert_exporter": "python",
   "pygments_lexer": "ipython3",
   "version": "3.6.2"
  }
 },
 "nbformat": 4,
 "nbformat_minor": 2
}
