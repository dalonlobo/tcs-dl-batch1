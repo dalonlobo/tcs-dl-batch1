{
 "cells": [
  {
   "cell_type": "code",
   "execution_count": 9,
   "metadata": {},
   "outputs": [],
   "source": [
    "import numpy as np\n",
    "import matplotlib.pyplot as plt \n",
    "import tensorflow as tf\n",
    "import keras\n",
    "from keras  import models, layers, optimizers"
   ]
  },
  {
   "cell_type": "code",
   "execution_count": 10,
   "metadata": {},
   "outputs": [],
   "source": [
    "#Complete this function for creating  keras layer based on netwrok parameters, and run for each optimzer passed in the param\n",
    "def mainDriverMNistKeras(opt):\n",
    "    (x_train, y_train), (x_test, y_test) = tf.keras.datasets.mnist.load_data()\n",
    "    x_train = x_train.reshape(x_train.shape[0], x_train.shape[1]*x_train.shape[2])\n",
    "    x_train = x_train/255\n",
    "    x_test = x_test.reshape(x_test.shape[0], x_test.shape[1]*x_test.shape[2])\n",
    "    x_test = x_test/255\n",
    "\n",
    "    y_train_cat = keras.utils.to_categorical(y_train, num_classes=10)\n",
    "    y_test_cat = keras.utils.to_categorical(y_test, num_classes=10)\n",
    "\n",
    "    #Assume you have 3 layers, with 600 units inlayer1, 40 in layer 2, and 10 in layer 3, act=relu, relu, softmax, input shape same\n",
    "    ## Write code to create this model (4 lines of code)\n",
    "    network = models.Sequential()\n",
    "    network.add(layers.Dense(500, activation=\"relu\", input_shape =(28*28,)))\n",
    "    network.add(layers.Dense(30, activation=\"relu\"))\n",
    "    network.add(layers.Dense(10, activation=\"softmax\"))\n",
    "    ## Write code to create this model (4 lines of code)\n",
    "    ## Now take each optimizer passed in the parameter opt and run the model.\n",
    "    ## We need to get the optimizer used and the accuracy for that optimzer\n",
    "    ## Store the performance in a dictionary\n",
    "    OptPerf = {}\n",
    "    #Write Code to take each optimizer, compile, fit, predict for train and test and store the result in a dictionary OptPerf\n",
    "    for i in i:\n",
    "        #use loss = \"categorical_crossentropy\", metrics = \"accuracy\" (in a list)\n",
    "        pass\n",
    "    print (\"Over RESULTS\", OptPerf)\n",
    "    return OptPerf"
   ]
  },
  {
   "cell_type": "code",
   "execution_count": 11,
   "metadata": {},
   "outputs": [],
   "source": [
    "#Call this with Rmsprop use optimizers.RMSprop(lr=0.001), and use \"rmsprop\" as another entry to identify that the result is for rmsprop\n",
    "##One line of code"
   ]
  },
  {
   "cell_type": "code",
   "execution_count": 12,
   "metadata": {},
   "outputs": [],
   "source": [
    "#Good practice to have this protection block to accidentally prevent executing main code\n",
    "if __name__ == \"__main__\":\n",
    "    ## Now set the parameters for opt, and call the keras model to predict and store the prediction accuracy\n",
    "#    \"Rmsprop\" = optimizers.RMSprop(lr=0.001)\n",
    "#    \"adadelta\" = optimizers.adadelta()\n",
    "#    \"adagrad\" = optimizers.adagrad(), ),\n",
    "#    \"adam\" =  optimizers.adam(), ,),\n",
    "#    \"adamax\"= optimizers.adamax(), ),\n",
    "#    \"nadam\"= optimizers.nadam(), ),\n",
    "#    \"sgd\"= optimizers.sgd(), )]\n",
    " #call and make predictions and store the accuracy for each optimizer\n",
    "    pass"
   ]
  },
  {
   "cell_type": "code",
   "execution_count": null,
   "metadata": {},
   "outputs": [],
   "source": []
  },
  {
   "cell_type": "code",
   "execution_count": null,
   "metadata": {},
   "outputs": [],
   "source": []
  }
 ],
 "metadata": {
  "kernelspec": {
   "display_name": "Python 3",
   "language": "python",
   "name": "python3"
  },
  "language_info": {
   "codemirror_mode": {
    "name": "ipython",
    "version": 3
   },
   "file_extension": ".py",
   "mimetype": "text/x-python",
   "name": "python",
   "nbconvert_exporter": "python",
   "pygments_lexer": "ipython3",
   "version": "3.6.2"
  }
 },
 "nbformat": 4,
 "nbformat_minor": 2
}
