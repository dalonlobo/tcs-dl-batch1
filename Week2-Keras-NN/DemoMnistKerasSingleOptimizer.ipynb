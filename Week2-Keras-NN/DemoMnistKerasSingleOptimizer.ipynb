{
 "cells": [
  {
   "cell_type": "code",
   "execution_count": 1,
   "metadata": {},
   "outputs": [
    {
     "name": "stderr",
     "output_type": "stream",
     "text": [
      "c:\\python36\\lib\\site-packages\\h5py\\__init__.py:36: FutureWarning: Conversion of the second argument of issubdtype from `float` to `np.floating` is deprecated. In future, it will be treated as `np.float64 == np.dtype(float).type`.\n",
      "  from ._conv import register_converters as _register_converters\n",
      "Using TensorFlow backend.\n"
     ]
    }
   ],
   "source": [
    "import numpy as np\n",
    "import matplotlib.pyplot as plt \n",
    "import tensorflow as tf\n",
    "import keras\n",
    "from keras  import models, layers, optimizers"
   ]
  },
  {
   "cell_type": "code",
   "execution_count": 3,
   "metadata": {},
   "outputs": [],
   "source": [
    "def mainDriverMNistKeras(opt):\n",
    "    (x_train, y_train), (x_test, y_test) = tf.keras.datasets.mnist.load_data()\n",
    "    x_train = x_train.reshape(x_train.shape[0], x_train.shape[1]*x_train.shape[2])\n",
    "    x_train = x_train/255\n",
    "    x_test = x_test.reshape(x_test.shape[0], x_test.shape[1]*x_test.shape[2])\n",
    "    x_test = x_test/255\n",
    "\n",
    "    y_train_cat = keras.utils.to_categorical(y_train, num_classes=10)\n",
    "    y_test_cat = keras.utils.to_categorical(y_test, num_classes=10)\n",
    "\n",
    "    network = models.Sequential()\n",
    "    network.add(layers.Dense(512, activation=\"relu\", input_shape =(28*28,)))\n",
    "    network.add(layers.Dense(20, activation=\"relu\"))\n",
    "    network.add(layers.Dense(10, activation=\"softmax\"))\n",
    "\n",
    "    network.compile(optimizer= opt, loss = \"categorical_crossentropy\", metrics = [\"accuracy\"])\n",
    "    network.fit(x_train, y_train_cat, epochs=3, batch_size=1024)\n",
    "\n",
    "    y_pred_train = network.predict(x_train)\n",
    "    y_pred_train_val = np.argmax(y_pred_train, axis=1)\n",
    "    result_train=(y_pred_train_val == y_train)\n",
    "    print (\"Num correct Train = \", np.sum(result_train), \"and %Correct= \", np.sum(result_train)/len(result_train))\n",
    "    y_pred_test = network.predict(x_test)\n",
    "    y_pred_test_val = np.argmax(y_pred_test, axis=1)\n",
    "    result_test=(y_pred_test_val == y_test)\n",
    "    print ( \"Num correct Test = \", np.sum(result_test), \"and  %Correct= \", np.sum(result_test)/len(result_test))\n"
   ]
  },
  {
   "cell_type": "code",
   "execution_count": 4,
   "metadata": {},
   "outputs": [
    {
     "name": "stdout",
     "output_type": "stream",
     "text": [
      "WARNING:tensorflow:From c:\\python36\\lib\\site-packages\\keras\\backend\\tensorflow_backend.py:2755: calling reduce_sum (from tensorflow.python.ops.math_ops) with keep_dims is deprecated and will be removed in a future version.\n",
      "Instructions for updating:\n",
      "keep_dims is deprecated, use keepdims instead\n",
      "WARNING:tensorflow:From c:\\python36\\lib\\site-packages\\keras\\backend\\tensorflow_backend.py:1290: calling reduce_mean (from tensorflow.python.ops.math_ops) with keep_dims is deprecated and will be removed in a future version.\n",
      "Instructions for updating:\n",
      "keep_dims is deprecated, use keepdims instead\n",
      "Epoch 1/3\n",
      "60000/60000 [==============================] - 2s - loss: 0.6318 - acc: 0.8278     \n",
      "Epoch 2/3\n",
      "60000/60000 [==============================] - 2s - loss: 0.2682 - acc: 0.9235     \n",
      "Epoch 3/3\n",
      "60000/60000 [==============================] - 2s - loss: 0.1930 - acc: 0.9437     \n",
      "Num correct Train =  57384 and %Correct=  0.9564\n",
      "Num correct Test =  9515 and  %Correct=  0.9515\n"
     ]
    }
   ],
   "source": [
    "OptPerf = mainDriverMNistKeras(optimizers.RMSprop(lr=0.001))"
   ]
  },
  {
   "cell_type": "code",
   "execution_count": null,
   "metadata": {},
   "outputs": [],
   "source": []
  }
 ],
 "metadata": {
  "kernelspec": {
   "display_name": "Python 3",
   "language": "python",
   "name": "python3"
  },
  "language_info": {
   "codemirror_mode": {
    "name": "ipython",
    "version": 3
   },
   "file_extension": ".py",
   "mimetype": "text/x-python",
   "name": "python",
   "nbconvert_exporter": "python",
   "pygments_lexer": "ipython3",
   "version": "3.6.2"
  }
 },
 "nbformat": 4,
 "nbformat_minor": 2
}
